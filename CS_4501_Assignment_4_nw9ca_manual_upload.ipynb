{
 "cells": [
  {
   "cell_type": "markdown",
   "metadata": {
    "colab_type": "text",
    "id": "-40VPC7MAGGB"
   },
   "source": [
    "# Assignment 4: Benchmarking Fashion-MNIST with Deep Neural Nets"
   ]
  },
  {
   "cell_type": "markdown",
   "metadata": {
    "colab_type": "text",
    "id": "piFzh10hAGGE"
   },
   "source": [
    "### CS 4501 Machine Learning - Department of Computer Science - University of Virginia\n",
    "\"The original MNIST dataset contains a lot of handwritten digits. Members of the AI/ML/Data Science community love this dataset and use it as a benchmark to validate their algorithms. In fact, MNIST is often the first dataset researchers try. \"If it doesn't work on MNIST, it won't work at all\", they said. \"Well, if it does work on MNIST, it may still fail on others.\" - **Zalando Research, Github Repo.**\"\n",
    "\n",
    "Fashion-MNIST is a dataset from the Zalando's article. Each example is a 28x28 grayscale image, associated with a label from 10 classes. They intend Fashion-MNIST to serve as a direct drop-in replacement for the original MNIST dataset for benchmarking machine learning algorithms.\n",
    "\n",
    "![Here's an example how the data looks (each class takes three-rows):](https://github.com/zalandoresearch/fashion-mnist/raw/master/doc/img/fashion-mnist-sprite.png)\n",
    "\n",
    "In this assignment, you will attempt to benchmark the Fashion-MNIST using Neural Networks. You must use it to train some neural networks on TensorFlow and predict the final output of 10 classes. For deliverables, you must write code in Python and submit this Jupyter Notebook file (.ipynb) to earn a total of 100 pts. You will gain points depending on how you perform in the following sections.\n"
   ]
  },
  {
   "cell_type": "code",
   "execution_count": 0,
   "metadata": {
    "colab": {},
    "colab_type": "code",
    "id": "469YvvIzAGGJ"
   },
   "outputs": [],
   "source": [
    "# You might want to use the following packages\n",
    "import numpy as np\n",
    "import os\n",
    "import tensorflow as tf\n",
    "tf.logging.set_verbosity(tf.logging.ERROR) #reduce annoying warning messages\n",
    "from functools import partial\n",
    "\n",
    "# to make this notebook's output stable across runs\n",
    "def reset_graph(seed=42):\n",
    "    tf.reset_default_graph()\n",
    "    tf.set_random_seed(seed)\n",
    "    np.random.seed(seed)\n"
   ]
  },
  {
   "cell_type": "markdown",
   "metadata": {
    "colab_type": "text",
    "id": "t-PtpH4xAGGG"
   },
   "source": [
    "---\n",
    "## 1. PRE-PROCESSING THE DATA (10 pts)\n",
    "\n",
    "You can load the Fashion MNIST directly from Tensorflow. **Partition of the dataset** so that you will have 50,000 examples for training, 10,000 examples for validation, and 10,000 examples for testing. Also, make sure that you platten out each of examples so that it contains only a 1-D feature vector.\n",
    "\n",
    "Write some code to output the dimensionalities of each partition (train, validation, and test sets).\n",
    "\n"
   ]
  },
  {
   "cell_type": "code",
   "execution_count": 2,
   "metadata": {
    "colab": {
     "base_uri": "https://localhost:8080/",
     "height": 176
    },
    "colab_type": "code",
    "id": "Z2-Ilkesfm7Z",
    "outputId": "2001eaa6-e5d4-48b0-db56-f4343b240a54"
   },
   "outputs": [
    {
     "name": "stdout",
     "output_type": "stream",
     "text": [
      "Downloading data from https://storage.googleapis.com/tensorflow/tf-keras-datasets/train-labels-idx1-ubyte.gz\n",
      "32768/29515 [=================================] - 0s 0us/step\n",
      "Downloading data from https://storage.googleapis.com/tensorflow/tf-keras-datasets/train-images-idx3-ubyte.gz\n",
      "26427392/26421880 [==============================] - 0s 0us/step\n",
      "Downloading data from https://storage.googleapis.com/tensorflow/tf-keras-datasets/t10k-labels-idx1-ubyte.gz\n",
      "8192/5148 [===============================================] - 0s 0us/step\n",
      "Downloading data from https://storage.googleapis.com/tensorflow/tf-keras-datasets/t10k-images-idx3-ubyte.gz\n",
      "4423680/4422102 [==============================] - 0s 0us/step\n"
     ]
    }
   ],
   "source": [
    "# Your code goes here for this section.\n",
    "fmnist = tf.keras.datasets.fashion_mnist.load_data();\n"
   ]
  },
  {
   "cell_type": "code",
   "execution_count": 0,
   "metadata": {
    "colab": {},
    "colab_type": "code",
    "id": "bwvCfcueSv5v"
   },
   "outputs": [],
   "source": [
    "(X_train, y_train), (X_test, y_test) = tf.keras.datasets.fashion_mnist.load_data()\n",
    "X_train = X_train.astype(np.float32).reshape(-1, 28*28) / 255.0\n",
    "X_test = X_test.astype(np.float32).reshape(-1, 28*28) / 255.0\n",
    "y_train = y_train.astype(np.int32)\n",
    "y_test = y_test.astype(np.int32)\n",
    "X_valid, X_train = X_train[:10000], X_train[10000:]\n",
    "y_valid, y_train = y_train[:10000], y_train[10000:]"
   ]
  },
  {
   "cell_type": "code",
   "execution_count": 4,
   "metadata": {
    "colab": {
     "base_uri": "https://localhost:8080/",
     "height": 121
    },
    "colab_type": "code",
    "id": "CAji81wCm8FX",
    "outputId": "e72b7713-616b-4871-ec0f-e5615c8e6f5d"
   },
   "outputs": [
    {
     "name": "stdout",
     "output_type": "stream",
     "text": [
      "X_train shape:(50000, 784)\n",
      "y_train shape:(50000,)\n",
      "X_vaid shape:(10000, 784)\n",
      "y_valid shape:(10000,)\n",
      "X_test shape:(10000, 784)\n",
      "y_test shape:(10000,)\n"
     ]
    }
   ],
   "source": [
    "print(\"X_train shape:\" + str(X_train.shape))\n",
    "print(\"y_train shape:\" + str(y_train.shape))\n",
    "print(\"X_vaid shape:\" + str(X_valid.shape))\n",
    "print(\"y_valid shape:\" + str(y_valid.shape))\n",
    "print(\"X_test shape:\" + str(X_test.shape))\n",
    "print(\"y_test shape:\" + str(y_test.shape))"
   ]
  },
  {
   "cell_type": "markdown",
   "metadata": {
    "colab_type": "text",
    "id": "Na4CpxLBAGGP"
   },
   "source": [
    "- - -\n",
    "## 2. CONSTRUCTION PHASE (30 pts)\n",
    "\n",
    "In this section, define at least three neural networks with different structures. Make sure that the input layer has the right number of inputs. The best structure often is found through a process of trial and error experimentation:\n",
    "- You may start with a fully connected network structure with two hidden layers.\n",
    "- You may try a few settings of the number of nodes in each layer.\n",
    "- You may try a few activation functions to see if they affect the performance.\n",
    "\n",
    "**Important Implementation Note:** For the purpose of learning Tensorflow, you must use low-level TensorFlow API to construct the network. Usage of high-level tools (ie. Keras) is not permited. "
   ]
  },
  {
   "cell_type": "markdown",
   "metadata": {
    "colab_type": "text",
    "id": "zc5cnGWEepwR"
   },
   "source": [
    "not sure to create 'different' tree neural networks"
   ]
  },
  {
   "cell_type": "code",
   "execution_count": 0,
   "metadata": {
    "colab": {},
    "colab_type": "code",
    "id": "bIJrHPVlAGGQ"
   },
   "outputs": [],
   "source": [
    "# Your code goes here\n",
    "reset_graph()\n",
    "\n",
    "# Set some configuration here\n",
    "n_inputs = 28*28  # Fashion-MNIST\n",
    "learning_rate = 0.01\n",
    "n_outputs = 10\n",
    "\n",
    "# Construct placeholder for the input layer\n",
    "X = tf.placeholder(tf.float32, shape=(None, n_inputs), name=\"X\")\n",
    "y = tf.placeholder(tf.int32, shape=(None), name=\"y\")"
   ]
  },
  {
   "cell_type": "code",
   "execution_count": 0,
   "metadata": {
    "colab": {},
    "colab_type": "code",
    "id": "iDrFp7KKils6"
   },
   "outputs": [],
   "source": [
    "n_hidden1 = 300\n",
    "n_hidden2 = 300\n",
    "with tf.name_scope(\"dnn1\"):\n",
    "  #implementation of the first net here\n",
    "  hidden1 = tf.layers.dense(X, n_hidden1, activation=tf.nn.leaky_relu, name=\"hidden1\")\n",
    "  hidden2 = tf.layers.dense(hidden1, n_hidden2, activation=tf.nn.leaky_relu, name=\"hidden2\")\n",
    "  logits = tf.layers.dense(hidden2, n_outputs, name=\"outputs\")"
   ]
  },
  {
   "cell_type": "code",
   "execution_count": 0,
   "metadata": {
    "colab": {},
    "colab_type": "code",
    "id": "luyNllyVkNxr"
   },
   "outputs": [],
   "source": [
    "n2_hidden1 = 300\n",
    "n2_hidden2 = 100\n",
    "with tf.name_scope(\"dnn2\"):\n",
    "  #implementation of the first net here\n",
    "  hidden2_1 = tf.layers.dense(X, n2_hidden1, activation=tf.nn.leaky_relu, name=\"hidden2_1\")\n",
    "  hidden2_2 = tf.layers.dense(hidden2_1, n2_hidden2, activation=tf.nn.leaky_relu, name=\"hidden2_2\")\n",
    "  logits = tf.layers.dense(hidden2_2, n_outputs, name=\"outputs2\")"
   ]
  },
  {
   "cell_type": "code",
   "execution_count": 0,
   "metadata": {
    "colab": {},
    "colab_type": "code",
    "id": "JuvjZeJekP4-"
   },
   "outputs": [],
   "source": [
    "n3_hidden1 = 300\n",
    "n3_hidden2 = 100\n",
    "with tf.name_scope(\"dnn3\"):\n",
    "  #implementation of the first net here\n",
    "  hidden3_1 = tf.layers.dense(X, n3_hidden1, activation=tf.nn.elu, name=\"hidden3_1\")\n",
    "  hidden3_2 = tf.layers.dense(hidden3_1, n3_hidden2, activation=tf.nn.elu, name=\"hidden3_2\")\n",
    "  logits = tf.layers.dense(hidden3_2, n_outputs, name=\"outputs3\")"
   ]
  },
  {
   "cell_type": "code",
   "execution_count": 0,
   "metadata": {
    "colab": {},
    "colab_type": "code",
    "id": "_mQCboA8ijWK"
   },
   "outputs": [],
   "source": [
    "with tf.name_scope(\"loss\"):\n",
    "  #implementation of the loss function net here\n",
    "  xentropy = tf.nn.sparse_softmax_cross_entropy_with_logits(labels=y, logits=logits)\n",
    "  loss = tf.reduce_mean(xentropy, name=\"loss\")"
   ]
  },
  {
   "cell_type": "code",
   "execution_count": 0,
   "metadata": {
    "colab": {},
    "colab_type": "code",
    "id": "GL_cXX09ih12"
   },
   "outputs": [],
   "source": [
    "learning_rate = 0.01\n",
    "\n",
    "with tf.name_scope(\"train\"):\n",
    "  #implementation of the training optimizer here\n",
    "  optimizer = tf.train.GradientDescentOptimizer(learning_rate)\n",
    "  training_op = optimizer.minimize(loss)"
   ]
  },
  {
   "cell_type": "code",
   "execution_count": 0,
   "metadata": {
    "colab": {},
    "colab_type": "code",
    "id": "EfKWL5IZigJg"
   },
   "outputs": [],
   "source": [
    "with tf.name_scope(\"eval\"):\n",
    "  #implementation of the evaluation procedure here\n",
    "  correct = tf.nn.in_top_k(logits, y, 1)\n",
    "  accuracy = tf.reduce_mean(tf.cast(correct, tf.float32))"
   ]
  },
  {
   "cell_type": "markdown",
   "metadata": {
    "colab_type": "text",
    "id": "SKcVSGXOAGGT"
   },
   "source": [
    "- - -\n",
    "## 3. EXECUTION PHASE (30 pts)\n",
    "\n",
    "\n",
    "\n",
    "After you construct the three models of neural networks, you can compute the performance measure as the class accuracy. You will need to define the number of epochs and size of the training batch. You also might need to reset the graph each time your try a different model. To save time and avoid retraining, you should save the trained model and load it from disk to evaluate a test set. Pick the best model and answer the following:\n",
    "- Which model yields the best performance measure for your dataset? Provide a reason why it yields the best performance.\n",
    "        - the first model which has the number of neurons in the first and second hidden layers ar both 300 with leaky ReLU activation function at accuracy = 87.65% \n",
    "- Why did you pick this many hidden layers?\n",
    "        - I chose 300 neurons for hidden layers because I think it is significantly large enough for the machine to learn efficiently. The smaller number tends to yield more errors, but it might be a good choice if time is constrainted. \n",
    "- Provide some justifiable reasons for selecting the number of neurons per hidden layers. \n",
    "        - The neurons should be enough for the machine to learn. I have a constraint that the proper number should give the accuracy at least 85 %.\n",
    "- Which activation functions did you use?\n",
    "        - I use both leaky ReLU (model 1 and 2) and ELU (model 3)\n",
    "        - By comparison at the same hyperparameters, the ELU yields higher error than leaky ReLU\n",
    "In the next session you will get a chance to finetune it further .\n",
    "\n"
   ]
  },
  {
   "cell_type": "code",
   "execution_count": 0,
   "metadata": {
    "colab": {},
    "colab_type": "code",
    "id": "NGDKdeZzAGGV"
   },
   "outputs": [],
   "source": [
    "# Your code goes here\n",
    "\n",
    "# shuffle_batch() shuffle the examples in a batch before training\n",
    "def shuffle_batch(X, y, batch_size):\n",
    "    rnd_idx = np.random.permutation(len(X))\n",
    "    n_batches = len(X) // batch_size\n",
    "    for batch_idx in np.array_split(rnd_idx, n_batches):\n",
    "        X_batch, y_batch = X[batch_idx], y[batch_idx]\n",
    "        yield X_batch, y_batch\n"
   ]
  },
  {
   "cell_type": "code",
   "execution_count": 13,
   "metadata": {
    "colab": {
     "base_uri": "https://localhost:8080/",
     "height": 156
    },
    "colab_type": "code",
    "id": "MKMqf1gijPwW",
    "outputId": "75872e45-7e8a-4148-b5f6-6b364b0de91a"
   },
   "outputs": [
    {
     "name": "stdout",
     "output_type": "stream",
     "text": [
      "0 Batch accuracy: 0.9 Validation accuracy: 0.8076\n",
      "5 Batch accuracy: 0.92 Validation accuracy: 0.8526\n",
      "10 Batch accuracy: 0.88 Validation accuracy: 0.8692\n",
      "15 Batch accuracy: 0.9 Validation accuracy: 0.8753\n",
      "20 Batch accuracy: 0.98 Validation accuracy: 0.8771\n",
      "25 Batch accuracy: 0.86 Validation accuracy: 0.8809\n",
      "30 Batch accuracy: 0.98 Validation accuracy: 0.8878\n",
      "35 Batch accuracy: 0.88 Validation accuracy: 0.8832\n"
     ]
    }
   ],
   "source": [
    "# dnn1 \n",
    "reset_graph()\n",
    "\n",
    "# Set some configuration here\n",
    "n_inputs = 28*28  # Fashion-MNIST\n",
    "learning_rate = 0.01\n",
    "n_outputs = 10\n",
    "\n",
    "# Construct placeholder for the input layer\n",
    "X = tf.placeholder(tf.float32, shape=(None, n_inputs), name=\"X\")\n",
    "y = tf.placeholder(tf.int32, shape=(None), name=\"y\")\n",
    "\n",
    "\n",
    "n_hidden1 = 300\n",
    "n_hidden2 = 300\n",
    "with tf.name_scope(\"dnn1\"):\n",
    "  #implementation of the first net here\n",
    "  hidden1 = tf.layers.dense(X, n_hidden1, activation=tf.nn.leaky_relu, name=\"hidden1\")\n",
    "  hidden2 = tf.layers.dense(hidden1, n_hidden2, activation=tf.nn.leaky_relu, name=\"hidden2\")\n",
    "  logits = tf.layers.dense(hidden2, n_outputs, name=\"outputs\")\n",
    "  \n",
    "with tf.name_scope(\"loss\"):\n",
    "  #implementation of the loss function net here\n",
    "  xentropy = tf.nn.sparse_softmax_cross_entropy_with_logits(labels=y, logits=logits)\n",
    "  loss = tf.reduce_mean(xentropy, name=\"loss\")\n",
    "\n",
    "learning_rate = 0.01\n",
    "\n",
    "with tf.name_scope(\"train\"):\n",
    "  #implementation of the training optimizer here\n",
    "  optimizer = tf.train.GradientDescentOptimizer(learning_rate)\n",
    "  training_op = optimizer.minimize(loss)  \n",
    "\n",
    "with tf.name_scope(\"eval\"):\n",
    "  #implementation of the evaluation procedure here\n",
    "  correct = tf.nn.in_top_k(logits, y, 1)\n",
    "  accuracy = tf.reduce_mean(tf.cast(correct, tf.float32))\n",
    "\n",
    "init = tf.global_variables_initializer()\n",
    "saver = tf.train.Saver()\n",
    "\n",
    "n_epochs = 40\n",
    "batch_size = 50\n",
    "  \n",
    "with tf.Session() as sess:\n",
    "  init.run()\n",
    "  for epoch in range(n_epochs):\n",
    "    # implementation of the training ops here\n",
    "    for X_batch, y_batch in shuffle_batch(X_train, y_train, batch_size):\n",
    "      sess.run(training_op, feed_dict={X: X_batch, y: y_batch})\n",
    "    if (epoch % 5) == 0:\n",
    "      acc_batch = accuracy.eval(feed_dict={X: X_batch, y: y_batch})\n",
    "      # implementation of the validation accuracy here\n",
    "      acc_valid = accuracy.eval(feed_dict={X: X_valid, y: y_valid})\n",
    "      print(epoch, \"Batch accuracy:\", acc_batch, \"Validation accuracy:\", acc_valid)\n",
    "          \n",
    "  save_path = saver.save(sess, \"./my_dnn_model.ckpt\")"
   ]
  },
  {
   "cell_type": "code",
   "execution_count": 14,
   "metadata": {
    "colab": {
     "base_uri": "https://localhost:8080/",
     "height": 35
    },
    "colab_type": "code",
    "id": "lFPM62nDjncP",
    "outputId": "85175976-efe4-4786-c55f-a65f5e315cc6"
   },
   "outputs": [
    {
     "name": "stdout",
     "output_type": "stream",
     "text": [
      "Final test accuracy: 87.56%\n"
     ]
    }
   ],
   "source": [
    "with tf.Session() as sess:\n",
    "  \n",
    "    saver.restore(sess, \"./my_dnn_model.ckpt\")\n",
    "    # implementation of the test set evaluation here\n",
    "    acc_test = accuracy.eval(feed_dict={X: X_test, y: y_test})\n",
    "    print(\"Final test accuracy: {:.2f}%\".format(acc_test * 100))"
   ]
  },
  {
   "cell_type": "code",
   "execution_count": 15,
   "metadata": {
    "colab": {
     "base_uri": "https://localhost:8080/",
     "height": 156
    },
    "colab_type": "code",
    "id": "ORAZzFhi3-Ad",
    "outputId": "5194c47a-51a8-4034-9eee-926612c9cd36"
   },
   "outputs": [
    {
     "name": "stdout",
     "output_type": "stream",
     "text": [
      "0 Batch accuracy: 0.86 Validation accuracy: 0.8089\n",
      "5 Batch accuracy: 0.92 Validation accuracy: 0.8534\n",
      "10 Batch accuracy: 0.86 Validation accuracy: 0.868\n",
      "15 Batch accuracy: 0.88 Validation accuracy: 0.8746\n",
      "20 Batch accuracy: 0.98 Validation accuracy: 0.8737\n",
      "25 Batch accuracy: 0.86 Validation accuracy: 0.8826\n",
      "30 Batch accuracy: 0.96 Validation accuracy: 0.886\n",
      "35 Batch accuracy: 0.9 Validation accuracy: 0.8822\n"
     ]
    }
   ],
   "source": [
    "# dnn2 \n",
    "reset_graph()\n",
    "\n",
    "# Set some configuration here\n",
    "n_inputs = 28*28  # Fashion-MNIST\n",
    "learning_rate = 0.01\n",
    "n_outputs = 10\n",
    "\n",
    "# Construct placeholder for the input layer\n",
    "X = tf.placeholder(tf.float32, shape=(None, n_inputs), name=\"X\")\n",
    "y = tf.placeholder(tf.int32, shape=(None), name=\"y\")\n",
    "\n",
    "\n",
    "n2_hidden1 = 300\n",
    "n2_hidden2 = 100\n",
    "with tf.name_scope(\"dnn2\"):\n",
    "  #implementation of the first net here\n",
    "  hidden2_1 = tf.layers.dense(X, n2_hidden1, activation=tf.nn.leaky_relu, name=\"hidden2_1\")\n",
    "  hidden2_2 = tf.layers.dense(hidden2_1, n2_hidden2, activation=tf.nn.leaky_relu, name=\"hidden2_2\")\n",
    "  logits = tf.layers.dense(hidden2_2, n_outputs, name=\"outputs2\")\n",
    "  \n",
    "with tf.name_scope(\"loss\"):\n",
    "  #implementation of the loss function net here\n",
    "  xentropy = tf.nn.sparse_softmax_cross_entropy_with_logits(labels=y, logits=logits)\n",
    "  loss = tf.reduce_mean(xentropy, name=\"loss\")\n",
    "\n",
    "learning_rate = 0.01\n",
    "\n",
    "with tf.name_scope(\"train\"):\n",
    "  #implementation of the training optimizer here\n",
    "  optimizer = tf.train.GradientDescentOptimizer(learning_rate)\n",
    "  training_op = optimizer.minimize(loss)  \n",
    "\n",
    "with tf.name_scope(\"eval\"):\n",
    "  #implementation of the evaluation procedure here\n",
    "  correct = tf.nn.in_top_k(logits, y, 1)\n",
    "  accuracy = tf.reduce_mean(tf.cast(correct, tf.float32))\n",
    "\n",
    "init = tf.global_variables_initializer()\n",
    "saver = tf.train.Saver()\n",
    "\n",
    "n_epochs = 40\n",
    "batch_size = 50\n",
    "  \n",
    "with tf.Session() as sess:\n",
    "  init.run()\n",
    "  for epoch in range(n_epochs):\n",
    "    # implementation of the training ops here\n",
    "    for X_batch, y_batch in shuffle_batch(X_train, y_train, batch_size):\n",
    "      sess.run(training_op, feed_dict={X: X_batch, y: y_batch})\n",
    "    if (epoch % 5) == 0:\n",
    "      acc_batch = accuracy.eval(feed_dict={X: X_batch, y: y_batch})\n",
    "      # implementation of the validation accuracy here\n",
    "      acc_valid = accuracy.eval(feed_dict={X: X_valid, y: y_valid})\n",
    "      print(epoch, \"Batch accuracy:\", acc_batch, \"Validation accuracy:\", acc_valid)\n",
    "          \n",
    "  save_path = saver.save(sess, \"./my_dnn2_model.ckpt\")"
   ]
  },
  {
   "cell_type": "code",
   "execution_count": 16,
   "metadata": {
    "colab": {
     "base_uri": "https://localhost:8080/",
     "height": 35
    },
    "colab_type": "code",
    "id": "-qZd1z2L7Gvo",
    "outputId": "40757016-7705-42e6-8863-e33b871106ee"
   },
   "outputs": [
    {
     "name": "stdout",
     "output_type": "stream",
     "text": [
      "Final test accuracy: 87.50%\n"
     ]
    }
   ],
   "source": [
    "with tf.Session() as sess:\n",
    "  \n",
    "    saver.restore(sess, \"./my_dnn2_model.ckpt\")\n",
    "    # implementation of the test set evaluation here\n",
    "    acc_test = accuracy.eval(feed_dict={X: X_test, y: y_test})\n",
    "    print(\"Final test accuracy: {:.2f}%\".format(acc_test * 100))"
   ]
  },
  {
   "cell_type": "code",
   "execution_count": 17,
   "metadata": {
    "colab": {
     "base_uri": "https://localhost:8080/",
     "height": 156
    },
    "colab_type": "code",
    "id": "5y4lx2Fu7K0E",
    "outputId": "4603cb42-793e-43e1-dd46-0ac4f6c150b8"
   },
   "outputs": [
    {
     "name": "stdout",
     "output_type": "stream",
     "text": [
      "0 Batch accuracy: 0.84 Validation accuracy: 0.8126\n",
      "5 Batch accuracy: 0.92 Validation accuracy: 0.8516\n",
      "10 Batch accuracy: 0.86 Validation accuracy: 0.8645\n",
      "15 Batch accuracy: 0.86 Validation accuracy: 0.8709\n",
      "20 Batch accuracy: 0.94 Validation accuracy: 0.8697\n",
      "25 Batch accuracy: 0.88 Validation accuracy: 0.8761\n",
      "30 Batch accuracy: 0.96 Validation accuracy: 0.8788\n",
      "35 Batch accuracy: 0.82 Validation accuracy: 0.8785\n"
     ]
    }
   ],
   "source": [
    "# dnn3 \n",
    "reset_graph()\n",
    "\n",
    "# Set some configuration here\n",
    "n_inputs = 28*28  # Fashion-MNIST\n",
    "learning_rate = 0.01\n",
    "n_outputs = 10\n",
    "\n",
    "# Construct placeholder for the input layer\n",
    "X = tf.placeholder(tf.float32, shape=(None, n_inputs), name=\"X\")\n",
    "y = tf.placeholder(tf.int32, shape=(None), name=\"y\")\n",
    "\n",
    "\n",
    "n3_hidden1 = 300\n",
    "n3_hidden2 = 100\n",
    "with tf.name_scope(\"dnn3\"):\n",
    "  #implementation of the first net here\n",
    "  hidden3_1 = tf.layers.dense(X, n3_hidden1, activation=tf.nn.elu, name=\"hidden3_1\")\n",
    "  hidden3_2 = tf.layers.dense(hidden3_1, n3_hidden2, activation=tf.nn.elu, name=\"hidden3_2\")\n",
    "  logits = tf.layers.dense(hidden3_2, n_outputs, name=\"outputs3\")\n",
    "\n",
    "with tf.name_scope(\"loss\"):\n",
    "  #implementation of the loss function net here\n",
    "  xentropy = tf.nn.sparse_softmax_cross_entropy_with_logits(labels=y, logits=logits)\n",
    "  loss = tf.reduce_mean(xentropy, name=\"loss\")\n",
    "\n",
    "learning_rate = 0.01\n",
    "\n",
    "with tf.name_scope(\"train\"):\n",
    "  #implementation of the training optimizer here\n",
    "  optimizer = tf.train.GradientDescentOptimizer(learning_rate)\n",
    "  training_op = optimizer.minimize(loss)  \n",
    "\n",
    "with tf.name_scope(\"eval\"):\n",
    "  #implementation of the evaluation procedure here\n",
    "  correct = tf.nn.in_top_k(logits, y, 1)\n",
    "  accuracy = tf.reduce_mean(tf.cast(correct, tf.float32))\n",
    "\n",
    "init = tf.global_variables_initializer()\n",
    "saver = tf.train.Saver()\n",
    "\n",
    "n_epochs = 40\n",
    "batch_size = 50\n",
    "  \n",
    "with tf.Session() as sess:\n",
    "  init.run()\n",
    "  for epoch in range(n_epochs):\n",
    "    # implementation of the training ops here\n",
    "    for X_batch, y_batch in shuffle_batch(X_train, y_train, batch_size):\n",
    "      sess.run(training_op, feed_dict={X: X_batch, y: y_batch})\n",
    "    if (epoch % 5) == 0:\n",
    "      acc_batch = accuracy.eval(feed_dict={X: X_batch, y: y_batch})\n",
    "      # implementation of the validation accuracy here\n",
    "      acc_valid = accuracy.eval(feed_dict={X: X_valid, y: y_valid})\n",
    "      print(epoch, \"Batch accuracy:\", acc_batch, \"Validation accuracy:\", acc_valid)\n",
    "          \n",
    "  save_path = saver.save(sess, \"./my_dnn3_model.ckpt\")"
   ]
  },
  {
   "cell_type": "code",
   "execution_count": 18,
   "metadata": {
    "colab": {
     "base_uri": "https://localhost:8080/",
     "height": 35
    },
    "colab_type": "code",
    "id": "tO6ctGNw7VET",
    "outputId": "77d31d84-821c-4e42-ced8-d3d75e5cb689"
   },
   "outputs": [
    {
     "name": "stdout",
     "output_type": "stream",
     "text": [
      "Final test accuracy: 86.89%\n"
     ]
    }
   ],
   "source": [
    "with tf.Session() as sess:\n",
    "  \n",
    "    saver.restore(sess, \"./my_dnn3_model.ckpt\")\n",
    "    # implementation of the test set evaluation here\n",
    "    acc_test = accuracy.eval(feed_dict={X: X_test, y: y_test})\n",
    "    print(\"Final test accuracy: {:.2f}%\".format(acc_test * 100))"
   ]
  },
  {
   "cell_type": "markdown",
   "metadata": {
    "colab_type": "text",
    "id": "-s2zv1SrAGGY"
   },
   "source": [
    "- - -\n",
    "## 4. FINETUNING THE NETWORK (25 pts)\n",
    "\n",
    "The best performance on the Fashion MNIST of a non-neural-net classifier is the Support Vector Classifier {\"C\":10,\"kernel\":\"poly\"} with 0.897 accuracy. In this section, you will see how close you can get to that accuracy, or (better yet) beat it! You will be able to see the performance of other ML methods below:\n",
    "http://fashion-mnist.s3-website.eu-central-1.amazonaws.com\n",
    "\n",
    "Use the best model from the previous section and see if you can improve it further. To improve the performance of your model, You must make some modifications based upon the practical guidelines discuss in class. Here are a few decisions about the recommended network configurations you have to make:\n",
    "1. Initialization: Use He Initialization for your model\n",
    "2. Activation: Add ELU as the activation function throughout your hidden layers\n",
    "3. Normalization: Incorporate the batch normalization at every layer\n",
    "4. Regularization: Configure the dropout policy at 50% rate\n",
    "5. Optimization: Change Gradient Descent into Adam Optimization\n",
    "6. Your choice: make any other changes in 1-5 you deem necessary\n",
    "\n",
    "Keep in mind that the execution phase is essentially the same, so you can just run it from the above. See how much you gain in classification accuracy. Provide some justifications for the gain in performance. \n",
    "\n",
    "\n",
    "\n",
    "\n"
   ]
  },
  {
   "cell_type": "code",
   "execution_count": 0,
   "metadata": {
    "colab": {},
    "colab_type": "code",
    "id": "T-GmWg-_16md"
   },
   "outputs": [],
   "source": [
    "# Your code goes here\n",
    "reset_graph()\n",
    "\n",
    "# Set some configuration here\n",
    "n_inputs = 28*28  # Fashion-MNIST\n",
    "learning_rate = 0.002\n",
    "n_outputs = 10\n",
    "batch_norm_momentum = 0.9\n",
    "\n",
    "# Construct placeholder for the input layer\n",
    "X = tf.placeholder(tf.float32, shape=(None, n_inputs), name=\"X\")\n",
    "y = tf.placeholder(tf.int32, shape=(None), name=\"y\")\n",
    "training = tf.placeholder_with_default(False, shape=(), name='training')\n"
   ]
  },
  {
   "cell_type": "code",
   "execution_count": 0,
   "metadata": {
    "colab": {},
    "colab_type": "code",
    "id": "3BbC7AbeC0l7"
   },
   "outputs": [],
   "source": [
    "# Bath Norm, 5 layers, no drop out\n",
    "n_hidden1 = 300\n",
    "n_hidden2 = 100\n",
    "n_hidden3 = 50\n",
    "n_hidden4 = 50\n",
    "    \n",
    "with tf.name_scope(\"dnnBenchmark\"):\n",
    "  # implementation of the new benchmarking DNN here\n",
    "    he_init = tf.variance_scaling_initializer()\n",
    "\n",
    "    my_batch_norm_layer = partial(\n",
    "            tf.layers.batch_normalization,\n",
    "            training=training,\n",
    "            momentum=batch_norm_momentum)\n",
    "\n",
    "    my_dense_layer = partial(\n",
    "            tf.layers.dense,\n",
    "            kernel_initializer=he_init)\n",
    "\n",
    "    hidden1 = my_dense_layer(X, n_hidden1, name=\"hidden1\")\n",
    "    bn1 = tf.nn.relu(my_batch_norm_layer(hidden1))\n",
    "    hidden2 = my_dense_layer(bn1, n_hidden2, name=\"hidden2\")    \n",
    "    bn2 = tf.nn.relu(my_batch_norm_layer(hidden2))\n",
    "    hidden3 = my_dense_layer(bn2, n_hidden3, name=\"hidden3\")    \n",
    "    bn3 = tf.nn.relu(my_batch_norm_layer(hidden3))\n",
    "    hidden4 = my_dense_layer(bn3, n_hidden4, name=\"hidden4\")    \n",
    "    bn4 = tf.nn.relu(my_batch_norm_layer(hidden4))\n",
    "    logits_before_bn = my_dense_layer(bn4, n_outputs, name=\"outputs\")\n",
    "    logits = my_batch_norm_layer(logits_before_bn)"
   ]
  },
  {
   "cell_type": "code",
   "execution_count": 0,
   "metadata": {
    "colab": {},
    "colab_type": "code",
    "id": "8I9--YcC1djm"
   },
   "outputs": [],
   "source": [
    "with tf.name_scope(\"loss\"):\n",
    "  #implementation of the loss function net here\n",
    "  xentropy = tf.nn.sparse_softmax_cross_entropy_with_logits(labels=y, logits=logits)\n",
    "  loss = tf.reduce_mean(xentropy, name=\"loss\")"
   ]
  },
  {
   "cell_type": "code",
   "execution_count": 0,
   "metadata": {
    "colab": {},
    "colab_type": "code",
    "id": "1a2tYVL41eYZ"
   },
   "outputs": [],
   "source": [
    "with tf.name_scope(\"train\"):\n",
    "  #implementation of the training optimizer here\n",
    "  optimizer = tf.train.AdamOptimizer(learning_rate=learning_rate)\n",
    "  training_op = optimizer.minimize(loss)"
   ]
  },
  {
   "cell_type": "code",
   "execution_count": 0,
   "metadata": {
    "colab": {},
    "colab_type": "code",
    "id": "DBV2AyDf1hyB"
   },
   "outputs": [],
   "source": [
    "with tf.name_scope(\"eval\"):\n",
    "  #implementation of the evaluation procedure here\n",
    "  correct = tf.nn.in_top_k(logits, y, 1)\n",
    "  accuracy = tf.reduce_mean(tf.cast(correct, tf.float32))"
   ]
  },
  {
   "cell_type": "code",
   "execution_count": 0,
   "metadata": {
    "colab": {},
    "colab_type": "code",
    "id": "jSji8rWW1lFy"
   },
   "outputs": [],
   "source": [
    "# Your code goes here\n",
    "init = tf.global_variables_initializer()\n",
    "saver = tf.train.Saver()\n",
    "\n",
    "n_epochs = 100\n",
    "batch_size = 50\n",
    "\n",
    "# shuffle_batch() shuffle the examples in a batch before training\n",
    "def shuffle_batch(X, y, batch_size):\n",
    "    rnd_idx = np.random.permutation(len(X))\n",
    "    n_batches = len(X) // batch_size\n",
    "    for batch_idx in np.array_split(rnd_idx, n_batches):\n",
    "        X_batch, y_batch = X[batch_idx], y[batch_idx]\n",
    "        yield X_batch, y_batch\n"
   ]
  },
  {
   "cell_type": "code",
   "execution_count": 25,
   "metadata": {
    "colab": {
     "base_uri": "https://localhost:8080/",
     "height": 364
    },
    "colab_type": "code",
    "id": "wQA1Bgu31obF",
    "outputId": "fbcc023c-c3c1-4c72-aa81-b27375ad2162"
   },
   "outputs": [
    {
     "name": "stdout",
     "output_type": "stream",
     "text": [
      "0 Batch accuracy: 0.94 Validation accuracy: 0.8499\n",
      "5 Batch accuracy: 0.96 Validation accuracy: 0.8767\n",
      "10 Batch accuracy: 0.9 Validation accuracy: 0.8837\n",
      "15 Batch accuracy: 0.92 Validation accuracy: 0.8828\n",
      "20 Batch accuracy: 1.0 Validation accuracy: 0.8956\n",
      "25 Batch accuracy: 0.88 Validation accuracy: 0.8913\n",
      "30 Batch accuracy: 0.98 Validation accuracy: 0.8959\n",
      "35 Batch accuracy: 0.9 Validation accuracy: 0.8966\n",
      "40 Batch accuracy: 0.96 Validation accuracy: 0.893\n",
      "45 Batch accuracy: 0.98 Validation accuracy: 0.8983\n",
      "50 Batch accuracy: 0.96 Validation accuracy: 0.8959\n",
      "55 Batch accuracy: 1.0 Validation accuracy: 0.895\n",
      "60 Batch accuracy: 0.94 Validation accuracy: 0.894\n",
      "65 Batch accuracy: 0.94 Validation accuracy: 0.8962\n",
      "70 Batch accuracy: 1.0 Validation accuracy: 0.8975\n",
      "75 Batch accuracy: 0.98 Validation accuracy: 0.8915\n",
      "80 Batch accuracy: 1.0 Validation accuracy: 0.8912\n",
      "85 Batch accuracy: 0.98 Validation accuracy: 0.8969\n",
      "90 Batch accuracy: 0.98 Validation accuracy: 0.8956\n",
      "95 Batch accuracy: 1.0 Validation accuracy: 0.8903\n"
     ]
    }
   ],
   "source": [
    "with tf.Session() as sess:\n",
    "  init.run()\n",
    "  for epoch in range(n_epochs):\n",
    "    # implementation of the training ops here\n",
    "    for X_batch, y_batch in shuffle_batch(X_train, y_train, batch_size):\n",
    "      sess.run(training_op, feed_dict={X: X_batch, y: y_batch})\n",
    "    if (epoch % 5) == 0:\n",
    "      acc_batch = accuracy.eval(feed_dict={X: X_batch, y: y_batch})\n",
    "      # implementation of the validation accuracy here\n",
    "      acc_valid = accuracy.eval(feed_dict={X: X_valid, y: y_valid})\n",
    "      print(epoch, \"Batch accuracy:\", acc_batch, \"Validation accuracy:\", acc_valid)\n",
    "          \n",
    "  save_path = saver.save(sess, \"./my_dnnBenchmark_model.ckpt\")"
   ]
  },
  {
   "cell_type": "code",
   "execution_count": 26,
   "metadata": {
    "colab": {
     "base_uri": "https://localhost:8080/",
     "height": 35
    },
    "colab_type": "code",
    "id": "kjCXgafP1ugb",
    "outputId": "de419baf-2a17-48c8-f54a-3ebbfa6ac43d"
   },
   "outputs": [
    {
     "name": "stdout",
     "output_type": "stream",
     "text": [
      "Final test accuracy: 89.04%\n"
     ]
    }
   ],
   "source": [
    "with tf.Session() as sess:\n",
    "  \n",
    "    saver.restore(sess, \"./my_dnnBenchmark_model.ckpt\")\n",
    "    # implementation of the test set evaluation here\n",
    "    acc_test = accuracy.eval(feed_dict={X: X_test, y: y_test})\n",
    "    print(\"Final test accuracy: {:.2f}%\".format(acc_test * 100))"
   ]
  },
  {
   "cell_type": "markdown",
   "metadata": {
    "colab_type": "text",
    "id": "04jsbI9TAGGY"
   },
   "source": [
    "- - -\n",
    "## 5. OUTLOOK (5 pts)\n",
    "\n",
    "Plan for the outlook of your system: This may lead to the direction of your future project:\n",
    "- Did your neural network outperform other \"traditional ML technique? Why/why not?\n",
    "        No, the mean accuracy is not overcome 0.897 from kernel SVM. My model has average accuracy at .8905.\n",
    "- Does your model work well? If not, which model should be further investigated?\n",
    "        Even though the accuracy does not reach that of SVM, the accuracy is good enough in practice. The further investigation I plan to try is using CNN.\n",
    "- Do you satisfy with your system? What do you think needed to improve?\n",
    "        The accuracy is good, but I still want to improve it. Since the dataset is image, the CNN can work better. The more complicated algorithm such as the fully connected layer in the algorithm may increase the accuracy of the program. \n",
    "\n"
   ]
  },
  {
   "cell_type": "markdown",
   "metadata": {
    "colab_type": "text",
    "id": "zS9PKaL4AGGZ"
   },
   "source": [
    "- - - \n",
    "### NEED HELP?"
   ]
  },
  {
   "cell_type": "markdown",
   "metadata": {
    "colab_type": "text",
    "id": "T0vuIEBDAGGa"
   },
   "source": [
    "In case you get stuck in any step in the process, you may find some useful information from:\n",
    "\n",
    " * Consult my lectures and/or the textbook\n",
    " * Talk to the TA, they are available and there to help you during OH\n",
    " * Come talk to me or email me <nn4pj@virginia.edu> with subject starting \"CS4501 Assignment 4:...\".\n",
    " * More on the Fashion-MNIST to be found here: https://hanxiao.github.io/2018/09/28/Fashion-MNIST-Year-In-Review/\n",
    "\n",
    "Best of luck and have fun!"
   ]
  },
  {
   "cell_type": "code",
   "execution_count": 0,
   "metadata": {
    "colab": {},
    "colab_type": "code",
    "id": "cH_mulWEAGGb"
   },
   "outputs": [],
   "source": []
  }
 ],
 "metadata": {
  "colab": {
   "collapsed_sections": [],
   "name": "CS 4501 Assignment 4_nw9ca.ipynb",
   "provenance": [],
   "version": "0.3.2"
  },
  "kernelspec": {
   "display_name": "Python 3 (ipykernel)",
   "language": "python",
   "name": "python3"
  },
  "language_info": {
   "codemirror_mode": {
    "name": "ipython",
    "version": 3
   },
   "file_extension": ".py",
   "mimetype": "text/x-python",
   "name": "python",
   "nbconvert_exporter": "python",
   "pygments_lexer": "ipython3",
   "version": "3.11.3"
  }
 },
 "nbformat": 4,
 "nbformat_minor": 1
}
